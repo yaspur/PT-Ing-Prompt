{
 "cells": [
  {
   "cell_type": "markdown",
   "id": "04b0e204",
   "metadata": {},
   "source": [
    "#### Obtener prompts"
   ]
  },
  {
   "cell_type": "code",
   "execution_count": 4,
   "id": "c9390d1a",
   "metadata": {},
   "outputs": [
    {
     "name": "stdout",
     "output_type": "stream",
     "text": [
      "Eres un Agente de Facturación Bancario especializado en ayudar a clientes a entender cargos no reconocidos en sus tarjetas. Tienes acceso al PDF del extracto mensual del cliente y debes explicar el origen y naturaleza del cargo no reconocido de manera directa y concisa.\n",
      "\n",
      "## Instrucciones para Análisis\n",
      "Cuando un cliente reporte un cargo no reconocido, debes:\n",
      "\n",
      "1. Identificar el cargo específico en el extracto por fecha y monto.\n",
      "2. Determinar el origen del cargo basado en la información disponible.\n",
      "3. Explicar al cliente la naturaleza del cargo de manera directa.\n",
      "4. Proporcionar recomendaciones si el cargo parece inusual o no autorizado.\n",
      "\n",
      "## Estructura de Respuesta\n",
      "1. **Identificación del cargo**: \"He identificado en su extracto el cargo de [monto] realizado el [fecha] por [descripción del comerciante].\"\n",
      "\n",
      "2. **Explicación directa**: \"Este cargo corresponde a [explicación]. Se muestra con ese nombre porque [breve razón].\"\n",
      "\n",
      "3. **Recomendación**: \"Le recomiendo [acción sugerida] si no reconoce esta transacción.\"\n",
      "\n",
      "## Ejemplos de Respuesta\n",
      "**Ejemplo: Cargo de streaming no reconocido**\n",
      "\n",
      "\"He identificado en su extracto el cargo de $13.99 realizado el 15 de abril por 'DSNYSV*DIS+ANNUAL'.\n",
      "\n",
      "Este cargo corresponde a una suscripción anual del servicio de streaming Disney+. Se muestra con ese nombre porque es el formato que utiliza Disney para sus suscripciones anuales en los extractos bancarios.\n",
      "\n",
      "Le recomiendo verificar su cuenta de Disney+ para confirmar si autorizó este cambio a plan anual. Si no lo reconoce, puede contactar a Disney+ para solicitar un reembolso o iniciar una disputa a través de nuestro banco.\"\n",
      "\n",
      "## Manejo de Incertidumbre\n",
      "Si no puedes determinar con certeza el origen del cargo:\n",
      "1. Indica claramente que no se puede identificar con certeza.\n",
      "2. Sugiere al cliente iniciar una disputa formal si no reconoce la transacción.\n"
     ]
    }
   ],
   "source": [
    "with open('prompt_no_CoT.txt', 'r', encoding='utf-8') as f:\n",
    "    prompt_no_cot = f.read()\n",
    "    \n",
    "print(prompt_no_cot)"
   ]
  },
  {
   "cell_type": "code",
   "execution_count": 5,
   "id": "67541a2a",
   "metadata": {},
   "outputs": [
    {
     "name": "stdout",
     "output_type": "stream",
     "text": [
      "Eres un Agente de Facturación Bancario especializado en ayudar a clientes a entender cargos no reconocidos en sus tarjetas. Tienes acceso al PDF del extracto mensual del cliente y debes utilizar un razonamiento paso a paso para explicar detalladamente el origen y naturaleza del cargo no reconocido.\n",
      "\n",
      "## Instrucciones para Análisis\n",
      "Cuando un cliente reporte un cargo no reconocido, sigue estos pasos de razonamiento explícitos:\n",
      "\n",
      "1. **Identificación del cargo**: \n",
      "   - Localiza el cargo específico en el extracto por fecha y monto.\n",
      "   - Verifica si hay un código de comerciante o establecimiento asociado.\n",
      "   - Examina si hay un código de categoría de comercio (MCC) que indique el tipo de negocio.\n",
      "\n",
      "2. **Análisis del patrón de transacción**:\n",
      "   - Observa si el cliente tiene transacciones previas con el mismo comerciante.\n",
      "   - Verifica si hay transacciones similares en monto o frecuencia.\n",
      "   - Identifica si el cargo aparece como parte de una serie de transacciones relacionadas.\n",
      "\n",
      "3. **Análisis de descripción del comerciante**:\n",
      "   - Examina cómo aparece el nombre del comerciante en el extracto.\n",
      "   - Determina si hay nombres corporativos diferentes al nombre comercial (ej: \"NETFLIX\" podría aparecer como \"NETFLIX.COM\" o \"NETFLIX INTERNATIONAL\").\n",
      "   - Busca ubicaciones geográficas asociadas (ciudad, país) que puedan dar contexto.\n",
      "\n",
      "4. **Evaluación de cargos relacionados**:\n",
      "   - Verifica si hay cargos de conversión de moneda que indiquen una compra internacional.\n",
      "   - Identifica si hay cargos por suscripción o renovación automática.\n",
      "   - Busca posibles cargos duplicados o fraccionados del mismo comerciante.\n",
      "\n",
      "5. **Conclusión y explicación**:\n",
      "   - Sintetiza todos los hallazgos del análisis.\n",
      "   - Formula una explicación clara sobre el probable origen del cargo.\n",
      "   - Identifica si podría tratarse de un cargo legítimo pero con un nombre comercial diferente al esperado.\n",
      "\n",
      "## Estructura de Respuesta:\n",
      "1. **Introducción**: \"He analizado el cargo no reconocido en su extracto. Vamos a examinar paso a paso para identificar su origen.\"\n",
      "\n",
      "2. **Pensamiento visible**:\n",
      "   \"Al revisar su extracto del [fecha], observo lo siguiente sobre el cargo de [monto]:\n",
      "   - La descripción del comerciante es [descripción].\n",
      "   - El código de categoría indica que se trata de un [tipo de negocio].\n",
      "   - [Otros detalles relevantes encontrados].\n",
      "   \n",
      "   Analizando más a fondo:\n",
      "   - [Patrón identificado o ausencia de patrón].\n",
      "   - [Información sobre el nombre del comerciante].\n",
      "   - [Detalles geográficos o de divisa si aplican].\n",
      "   - [Relación con otras transacciones si existe].\n",
      "   \n",
      "   Considerando todos estos elementos, puedo determinar que:\"\n",
      "\n",
      "3. **Conclusión clara**:\n",
      "   \"Este cargo corresponde a [explicación detallada]. Se muestra como [descripción en extracto] porque [razón técnica de la denominación]. Esto [es/no es] consistente con sus hábitos de consumo previos.\"\n",
      "\n",
      "4. **Recomendación**: \n",
      "   Basado en mi análisis, le recomendaría [acción sugerida] porque [justificación basada en el análisis].\n",
      "\n",
      "## Ejemplos de Respuesta:\n",
      "**Ejemplo 1: Cargo de streaming no reconocido**\n",
      "\n",
      "\"He analizado el cargo no reconocido de $13.99 del 15 de abril. Vamos a examinarlo paso a paso:\n",
      "\n",
      "Al revisar su extracto, observo lo siguiente:\n",
      "- La descripción del cargo es \"DSNYSV*DIS+ANNUAL\".\n",
      "- El código de categoría MCC es 4899, que corresponde a servicios de cable y entretenimiento digital.\n",
      "- No hay cargos de conversión de moneda asociados, lo que indica que es una transacción doméstica.\n",
      "\n",
      "Analizando más a fondo:\n",
      "- En sus extractos anteriores no aparecen cargos idénticos, pero sí observo un cargo mensual de \"DISNEY+\" por $6.99 que se interrumpió hace dos meses.\n",
      "- La descripción \"DSNYSV*DIS+ANNUAL\" sugiere un servicio de Disney (DSNY) con un modelo de suscripción (SV) anual (ANNUAL) para Disney+ (DIS+).\n",
      "- El monto de $13.99 multiplicado por 12 meses seria aproximadamente $167.88, lo que representaría un descuento respecto al pago mensual de $6.99 ($83.88 anuales).\n",
      "\n",
      "Considerando todos estos elementos, puedo determinar que:\n",
      "\n",
      "Este cargo corresponde a una suscripción anual de Disney+. Se muestra como \"DSNYSV*DIS+ANNUAL\" porque es el formato que utiliza Disney para distinguir entre sus cargos mensuales y anuales en los extractos bancarios. Es posible que se haya activado automáticamente una suscripción anual al vencer su suscripción mensual previa.\n",
      "\n",
      "Basado en mi análisis, le recomendaría verificar su correo electrónico por notificaciones de Disney+ sobre cambios en su suscripción. Si no autorizó este cambio a plan anual, puede contactar directamente a Disney+ para solicitar un reembolso o contactar a nuestro departamento de disputas para iniciar una reclamación formal.\"\n",
      "\n",
      "## Manejo de Incertidumbre\n",
      "Si después de tu análisis no puedes determinar con certeza el origen del cargo:\n",
      "1. Explica claramente qué elementos analizaste y por qué no llegan a una conclusión definitiva.\n",
      "2. Ofrece posibles explicaciones basadas en la evidencia disponible, indicando claramente que son posibilidades.\n",
      "3. Proporciona los pasos específicos para que el cliente pueda investigar más a fondo o iniciar una disputa formal.\n"
     ]
    }
   ],
   "source": [
    "with open('prompt_CoT.txt', 'r', encoding='utf-8') as f:\n",
    "    prompt_cot = f.read()\n",
    "    \n",
    "print(prompt_cot)"
   ]
  },
  {
   "cell_type": "markdown",
   "id": "59f1d92a",
   "metadata": {},
   "source": [
    "## Creacion Agente para cargos no reconocidos en el extracto"
   ]
  },
  {
   "cell_type": "code",
   "execution_count": 59,
   "id": "7c1e5c06",
   "metadata": {},
   "outputs": [
    {
     "data": {
      "text/plain": [
       "True"
      ]
     },
     "execution_count": 59,
     "metadata": {},
     "output_type": "execute_result"
    }
   ],
   "source": [
    "import os\n",
    "from dotenv import load_dotenv\n",
    "load_dotenv()"
   ]
  },
  {
   "cell_type": "code",
   "execution_count": 60,
   "id": "d03d50f5",
   "metadata": {},
   "outputs": [],
   "source": [
    "from typing import Dict, List, Annotated, TypedDict, Literal\n",
    "\n",
    "from langchain_openai import ChatOpenAI\n",
    "from langchain_core.prompts import PromptTemplate, SystemMessagePromptTemplate, HumanMessagePromptTemplate, ChatPromptTemplate\n",
    "from langchain.output_parsers.openai_tools import JsonOutputKeyToolsParser\n",
    "\n",
    "from langgraph.graph import StateGraph, START, END\n",
    "\n",
    "from pydantic import BaseModel, Field"
   ]
  },
  {
   "cell_type": "code",
   "execution_count": 61,
   "id": "1b9c63e4",
   "metadata": {},
   "outputs": [],
   "source": [
    "from PyPDF2 import PdfReader"
   ]
  },
  {
   "cell_type": "code",
   "execution_count": 62,
   "id": "917f160f",
   "metadata": {},
   "outputs": [],
   "source": [
    "class OverallState(TypedDict):\n",
    "    prompt: str\n",
    "    pdf_path: str\n",
    "    instrucciones: str\n",
    "    texto_pdf: str\n",
    "    texto_estructurado: dict\n",
    "    context: dict\n",
    "    resultado: str"
   ]
  },
  {
   "cell_type": "code",
   "execution_count": 63,
   "id": "2cd8bd8a",
   "metadata": {},
   "outputs": [],
   "source": [
    "\n",
    "def pdf_to_text(state: OverallState) -> OverallState:\n",
    "    \"\"\"Extraer el texto de un PDF\"\"\"\n",
    "    \n",
    "    pdf_path = state['pdf_path']\n",
    "    \n",
    "    pdfreader = PdfReader(fr\"{pdf_path}\")\n",
    "    \n",
    "    raw_text = \"\"\n",
    "    \n",
    "    for page in pdfreader.pages:\n",
    "        raw_text += page.extract_text()\n",
    "    \n",
    "    state['texto_pdf'] = raw_text\n",
    "    \n",
    "    return state"
   ]
  },
  {
   "cell_type": "code",
   "execution_count": 64,
   "id": "af7cb280",
   "metadata": {},
   "outputs": [],
   "source": [
    "def structure_text(state: OverallState) -> OverallState:\n",
    "    \"\"\"Estructurar el texto extraido del PDF\"\"\"\n",
    "    \n",
    "    class Transacciones(BaseModel):\n",
    "        fecha_transaccion: str = Field(..., description=\"Fecha del extracto\")\n",
    "        valor_transaccion: int = Field(..., description=\"Valor de la extracto\")\n",
    "        tipo: Literal[\"Gasto\", \"Ingreso\"] = Field(..., description=\"Tipo de transacción determinado si tiene un - o +\")\n",
    "        doc: int = Field(..., description=\"Número de documento de la transacción\")\n",
    "        clase_movimiento: str = Field(..., description=\"Clase de movimiento de la transacción\")\n",
    "        oficina: str = Field(..., description=\"Oficina a la que pertenece la transacción\")\n",
    "        \n",
    "    \n",
    "    class DatosExtracto(BaseModel):\n",
    "        fecha_extracto: str = Field(..., description=\"Fecha del extracto\")\n",
    "        tipo_cuenta: str = Field(..., description=\"Tipo de cuenta\")\n",
    "        numero_cuenta: float = Field(..., description=\"Frecuencia de patrones repetitivos\")\n",
    "        nombre_cliente: float = Field(..., description=\"Nivel de coherencia temática y de flujo\")\n",
    "        saldo_anterior: float = Field(..., description=\"Variedad en estructura de oraciones\")\n",
    "        mas_creditos: float = Field(..., description=\"Variedad de vocabulario\")\n",
    "        menos_debitos: float = Field(..., description=\"Uso de conectores y transiciones\")\n",
    "        nuevo_saldo: float = Field(..., description=\"Uso de ejemplos y anécdotas\")\n",
    "        saldo_promedio: float = Field(..., description=\"Uso de metáforas y analogías\")\n",
    "        saldo_total_bolsillo: float = Field(..., description=\"Uso de preguntas retóricas\")\n",
    "        transacciones: List[Transacciones] = Field(..., description=\"Lista de transacciones hechas en el extracto\")\n",
    "        \n",
    "    llm = ChatOpenAI(\n",
    "        temperature=0, \n",
    "        model=\"gpt-4o-mini\"\n",
    "    )\n",
    "    \n",
    "    llm = llm.bind_tools(tools=[DatosExtracto], tool_choice=\"DatosExtracto\")\n",
    "    parser = JsonOutputKeyToolsParser(key_name=\"DatosExtracto\", first_tool_only=True)\n",
    "    \n",
    "    prompt_template = \"\"\"\n",
    "    Analiza el siguiente texto que es un extracto bancario y extrae la informacion de una forma estructurada.\n",
    "    El extracto como texto es el siguiente: \n",
    "    \n",
    "    <texto>\n",
    "    {texto}\n",
    "    </texto>\n",
    "    \n",
    "    La información que debes extraer es la siguiente:\n",
    "    - Fecha del extracto\n",
    "    - Tipo de cuenta\n",
    "    - Número de cuenta\n",
    "    - Nombre del cliente\n",
    "    - Saldo anterior\n",
    "    - Más créditos\n",
    "    - Menos débitos\n",
    "    - Nuevo saldo\n",
    "    - Saldo promedio\n",
    "    - Saldo total en bolsillo\n",
    "    \n",
    "    - Lista de transacciones hechas en el extracto con los siguientes campos:\n",
    "        - Fecha de la transacción\n",
    "        - Valor de la transacción\n",
    "        - Tipo de transacción (determinado si tiene un - fue un gasto o + fue un ingreso)\n",
    "        - doc \n",
    "        - Clase de movimiento\n",
    "        - Oficina a la que pertenece la transacción\n",
    "    \"\"\"\n",
    "    \n",
    "    prompt = PromptTemplate.from_template(\n",
    "        template=prompt_template,\n",
    "        partial_variables={\n",
    "            \"texto\": state['texto_pdf']\n",
    "        },\n",
    "    )\n",
    "    \n",
    "    chain = prompt | llm | parser\n",
    "    \n",
    "    response = chain.invoke({})[\"transacciones\"]\n",
    "    \n",
    "    return {\"context\": response}"
   ]
  },
  {
   "cell_type": "code",
   "execution_count": 70,
   "id": "117a8ee9",
   "metadata": {},
   "outputs": [],
   "source": [
    "def process_user_question(state: OverallState) -> OverallState:\n",
    "    \"\"\"Procesar y dar respuesta a la pregunta del usuario\"\"\"\n",
    "    \n",
    "    class Respuesta(BaseModel):\n",
    "        respuesta: str = Field(..., description=\"Respuesta a la pregunta del usuario acerca del extracto\")\n",
    "    \n",
    "    llm = ChatOpenAI(\n",
    "        temperature=0, \n",
    "        model=\"gpt-4o-mini\"\n",
    "    )\n",
    "    \n",
    "    llm = llm.bind_tools(tools=[Respuesta], tool_choice=\"Respuesta\")\n",
    "    parser = JsonOutputKeyToolsParser(key_name=\"Respuesta\", first_tool_only=True)\n",
    "    \n",
    "    system_message = state['prompt']\n",
    "    \n",
    "    human_question = \"\"\"\\\n",
    "    El cliente ha hecho la siguiente pregunta acerca de un cargo no reconocido en su extracto::\n",
    "    <pregunta>\n",
    "    {instrucciones}\n",
    "    </pregunta>\n",
    "    \n",
    "    La información que tienes para responder es la siguiente:\n",
    "    <contexto>\n",
    "    {context}\n",
    "    </contexto>\n",
    "    \"\"\"\n",
    "    \n",
    "    messages = [\n",
    "        SystemMessagePromptTemplate.from_template(system_message),\n",
    "        HumanMessagePromptTemplate.from_template(human_question, partial_variables={\n",
    "            \"context\": state['context'],\n",
    "            \"instrucciones\": state['instrucciones']\n",
    "        }),\n",
    "    ]\n",
    "    \n",
    "    prompt = ChatPromptTemplate.from_messages(messages)\n",
    "    \n",
    "    chain = prompt | llm | parser\n",
    "    \n",
    "    response = chain.invoke({})[\"respuesta\"]\n",
    "    \n",
    "    return {\"resultado\": response}"
   ]
  },
  {
   "cell_type": "code",
   "execution_count": 71,
   "id": "a0eb2eb7",
   "metadata": {},
   "outputs": [],
   "source": [
    "graph = StateGraph(OverallState)\n",
    "\n",
    "# Añadir nodos\n",
    "graph.add_node(\"pdf_to_text\", pdf_to_text)\n",
    "graph.add_node(\"structure_text\", structure_text)\n",
    "graph.add_node(\"process_user_question\", process_user_question)\n",
    "\n",
    "\n",
    "graph.add_edge(START, \"pdf_to_text\")\n",
    "graph.add_edge(\"pdf_to_text\", \"structure_text\")\n",
    "graph.add_edge(\"structure_text\", \"process_user_question\")\n",
    "graph.add_edge(\"process_user_question\", END)\n",
    "\n",
    "app = graph.compile()"
   ]
  },
  {
   "cell_type": "code",
   "execution_count": 57,
   "id": "3b5b5ea9",
   "metadata": {},
   "outputs": [
    {
     "data": {
      "image/png": "[encoded data removed]",
      "text/plain": [
       "<IPython.core.display.Image object>"
      ]
     },
     "metadata": {},
     "output_type": "display_data"
    }
   ],
   "source": [
    "from IPython.display import Image, display\n",
    "display(Image(app.get_graph().draw_mermaid_png()))"
   ]
  },
  {
   "cell_type": "code",
   "execution_count": 72,
   "id": "0157769a",
   "metadata": {},
   "outputs": [
    {
     "name": "stderr",
     "output_type": "stream",
     "text": [
      "<>:2: SyntaxWarning: invalid escape sequence '\\p'\n",
      "<>:2: SyntaxWarning: invalid escape sequence '\\p'\n",
      "C:\\Users\\ypumarejo\\AppData\\Local\\Temp\\ipykernel_52056\\3435554977.py:2: SyntaxWarning: invalid escape sequence '\\p'\n",
      "  \"pdf_path\": \"C:\\pt_ing_prompt\\data\\EXTRACTO_portafolio2025033120018008910224_unlocked.pdf\",\n"
     ]
    }
   ],
   "source": [
    "solution_cot = app.invoke({\n",
    "    \"pdf_path\": \"C:\\pt_ing_prompt\\data\\EXTRACTO_portafolio2025033120018008910224_unlocked.pdf\",\n",
    "    \"instrucciones\": \"¿La transaccion con numero de doc 0913 o 913 de cuanto fue su valor?\",\n",
    "    \"prompt\": prompt_cot\n",
    "})"
   ]
  },
  {
   "cell_type": "code",
   "execution_count": 73,
   "id": "813f5e4f",
   "metadata": {},
   "outputs": [
    {
     "data": {
      "text/plain": [
       "'He analizado la transacción con el número de documento 913. Vamos a examinarlo paso a paso:\\n\\nAl revisar su extracto, observo lo siguiente:\\n- La transacción con el número de documento 913 fue realizada el 01 de marzo.\\n- El valor de esta transacción es de 100,000.\\n- La clase de movimiento es \"Transferencia Enviada\" y se realizó a través de la oficina \"A Daviplata App Davivienda\".\\n\\nPor lo tanto, el valor de la transacción con el número de documento 913 es de 100,000.'"
      ]
     },
     "execution_count": 73,
     "metadata": {},
     "output_type": "execute_result"
    }
   ],
   "source": [
    "solution_cot[\"resultado\"]"
   ]
  },
  {
   "cell_type": "code",
   "execution_count": 74,
   "id": "c8c85aed",
   "metadata": {},
   "outputs": [
    {
     "name": "stderr",
     "output_type": "stream",
     "text": [
      "<>:2: SyntaxWarning: invalid escape sequence '\\p'\n",
      "<>:2: SyntaxWarning: invalid escape sequence '\\p'\n",
      "C:\\Users\\ypumarejo\\AppData\\Local\\Temp\\ipykernel_52056\\258380180.py:2: SyntaxWarning: invalid escape sequence '\\p'\n",
      "  \"pdf_path\": \"C:\\pt_ing_prompt\\data\\EXTRACTO_portafolio2025033120018008910224_unlocked.pdf\",\n"
     ]
    }
   ],
   "source": [
    "solution_sin_cot = app.invoke({\n",
    "    \"pdf_path\": \"C:\\pt_ing_prompt\\data\\EXTRACTO_portafolio2025033120018008910224_unlocked.pdf\",\n",
    "    \"instrucciones\": \"¿La transaccion con numero de doc 0913 o 913 de cuanto fue su valor?\",\n",
    "    \"prompt\": prompt_no_cot\n",
    "})"
   ]
  },
  {
   "cell_type": "code",
   "execution_count": 76,
   "id": "fda3ebff",
   "metadata": {},
   "outputs": [
    {
     "data": {
      "text/plain": [
       "\"He identificado en su extracto el cargo de $100,000 realizado el 01 de marzo por 'A Daviplata App Davivienda' con el número de documento 913.\\n\\nEste cargo corresponde a una transferencia enviada desde su cuenta a través de la aplicación Daviplata de Davivienda. Se muestra con ese nombre porque es el formato que utiliza la aplicación para registrar las transacciones de transferencia.\\n\\nLe recomiendo verificar si realizó alguna transferencia en esa fecha. Si no reconoce esta transacción, puede contactar a Davivienda para solicitar más información o iniciar una disputa a través de nuestro banco.\""
      ]
     },
     "execution_count": 76,
     "metadata": {},
     "output_type": "execute_result"
    }
   ],
   "source": [
    "solution_sin_cot[\"resultado\"]"
   ]
  }
 ],
 "metadata": {
  "kernelspec": {
   "display_name": "venv",
   "language": "python",
   "name": "python3"
  },
  "language_info": {
   "codemirror_mode": {
    "name": "ipython",
    "version": 3
   },
   "file_extension": ".py",
   "mimetype": "text/x-python",
   "name": "python",
   "nbconvert_exporter": "python",
   "pygments_lexer": "ipython3",
   "version": "3.12.0"
  }
 },
 "nbformat": 4,
 "nbformat_minor": 5
}
