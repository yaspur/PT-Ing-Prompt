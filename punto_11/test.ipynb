{
 "cells": [
  {
   "cell_type": "markdown",
   "id": "cc69490b",
   "metadata": {},
   "source": [
    "# Agente detector de IA"
   ]
  },
  {
   "cell_type": "code",
   "execution_count": 23,
   "id": "b8ae9a06",
   "metadata": {},
   "outputs": [
    {
     "data": {
      "text/plain": [
       "True"
      ]
     },
     "execution_count": 23,
     "metadata": {},
     "output_type": "execute_result"
    }
   ],
   "source": [
    "import os\n",
    "from dotenv import load_dotenv\n",
    "load_dotenv()"
   ]
  },
  {
   "cell_type": "code",
   "execution_count": 24,
   "id": "a0920997",
   "metadata": {},
   "outputs": [],
   "source": [
    "from typing import Dict, List, Annotated, TypedDict, Literal\n",
    "\n",
    "from langchain_openai import ChatOpenAI\n",
    "from langchain_core.prompts import PromptTemplate, SystemMessagePromptTemplate, HumanMessagePromptTemplate, ChatPromptTemplate\n",
    "from langchain.output_parsers.openai_tools import JsonOutputKeyToolsParser\n",
    "\n",
    "from langgraph.graph import StateGraph, START, END\n",
    "\n",
    "from pydantic import BaseModel, Field"
   ]
  },
  {
   "cell_type": "markdown",
   "id": "5a4a1bee",
   "metadata": {},
   "source": [
    "#### Estado del agente"
   ]
  },
  {
   "cell_type": "code",
   "execution_count": 25,
   "id": "b5428ada",
   "metadata": {},
   "outputs": [],
   "source": [
    "class AnalysisFeatures(TypedDict):\n",
    "    repeticiones: float\n",
    "    coherencia: float\n",
    "    complejidad_sintactica: float\n",
    "    diversidad_lexica: float\n",
    "\n",
    "class OverallState(TypedDict):\n",
    "    texto: str\n",
    "    analisis_preliminar: str\n",
    "    caracteristicas: AnalysisFeatures\n",
    "    patrones_detectados: List[str]\n",
    "    conclusion: str\n",
    "    score_ia: int  # Score de 0 a 100"
   ]
  },
  {
   "cell_type": "markdown",
   "id": "0aeb74a5",
   "metadata": {},
   "source": [
    "#### Nodos del agente"
   ]
  },
  {
   "cell_type": "code",
   "execution_count": 51,
   "id": "cea2851d",
   "metadata": {},
   "outputs": [],
   "source": [
    "def analisis_preliminar_texto(state: OverallState) -> OverallState:\n",
    "    \"\"\"Realiza un análisis preliminar del texto a evaluar.\"\"\"\n",
    "    \n",
    "    llm = ChatOpenAI(\n",
    "        temperature=0, \n",
    "        model=\"gpt-4o-mini\"\n",
    "    )\n",
    "    \n",
    "    prompt_template = \"\"\"\n",
    "    Analiza el siguiente texto y describe tus impresiones iniciales sobre si podría haber sido generado por IA:\n",
    "    \n",
    "    TEXTO A ANALIZAR:\n",
    "    \"{texto}\"\n",
    "    \n",
    "    Considera aspectos como:\n",
    "    - Naturalidad del lenguaje\n",
    "    - Estructura y ritmo\n",
    "    - Presencia de patrones repetitivos\n",
    "    - Uso de frases genéricas o plantillas comunes\n",
    "    \n",
    "    Proporciona solo un análisis breve y objetivo.\n",
    "    \"\"\"\n",
    "    \n",
    "    prompt = PromptTemplate.from_template(\n",
    "        template=prompt_template,\n",
    "        partial_variables={\"texto\": state['texto']}\n",
    "    )\n",
    "    \n",
    "    chain = prompt | llm\n",
    "    \n",
    "    response = chain.invoke({})\n",
    "        \n",
    "    return {\"analisis_preliminar\": response.content}"
   ]
  },
  {
   "cell_type": "code",
   "execution_count": 52,
   "id": "1edc9c2b",
   "metadata": {},
   "outputs": [],
   "source": [
    "def extraer_caracteristicas(state: OverallState) -> OverallState:\n",
    "    \"\"\"Extrae características lingüísticas cuantificables del texto.\"\"\"\n",
    "    \n",
    "    class Carateristicas(BaseModel):\n",
    "        repeticiones: float = Field(..., description=\"Frecuencia de patrones repetitivos\")\n",
    "        coherencia: float = Field(..., description=\"Nivel de coherencia temática y de flujo\")\n",
    "        complejidad_sintactica: float = Field(..., description=\"Variedad en estructura de oraciones\")\n",
    "        diversidad_lexica: float = Field(..., description=\"Variedad de vocabulario\")\n",
    "    \n",
    "    llm = ChatOpenAI(\n",
    "        temperature=0, \n",
    "        model=\"gpt-4o-mini\"\n",
    "    )\n",
    "    \n",
    "    llm = llm.bind_tools(tools=[Carateristicas], tool_choice=\"Carateristicas\")\n",
    "    parser = JsonOutputKeyToolsParser(key_name=\"Carateristicas\", first_tool_only=True)\n",
    "    \n",
    "    prompt_template = \"\"\"\n",
    "    Analiza el siguiente texto y calcula los siguientes indicadores en una escala de 0.0 a 1.0:\n",
    "    \n",
    "    TEXTO A ANALIZAR:\n",
    "    \"{texto}\"\n",
    "    \n",
    "    1. Repeticiones: Frecuencia de patrones repetitivos (0=sin repeticiones, 1=altamente repetitivo)\n",
    "    2. Coherencia: Nivel de coherencia temática y de flujo (0=incoherente, 1=perfectamente coherente)\n",
    "    3. Complejidad sintáctica: Variedad en estructura de oraciones (0=muy simple, 1=muy compleja)\n",
    "    4. Diversidad léxica: Variedad de vocabulario (0=muy limitada, 1=muy diversa)\n",
    "    \"\"\"\n",
    "    \n",
    "    prompt = PromptTemplate.from_template(\n",
    "        template=prompt_template,\n",
    "        partial_variables={\"texto\": state['texto']}\n",
    "    )\n",
    "    \n",
    "    chain = prompt | llm | parser\n",
    "    \n",
    "    response = chain.invoke({})\n",
    "    \n",
    "    caracteristicas_dict = {\n",
    "        \"repeticiones\": response[\"repeticiones\"],\n",
    "        \"coherencia\": response[\"coherencia\"],\n",
    "        \"complejidad_sintactica\": response[\"complejidad_sintactica\"],\n",
    "        \"diversidad_lexica\": response[\"diversidad_lexica\"]\n",
    "    }\n",
    "    \n",
    "    return {\"caracteristicas\": caracteristicas_dict}"
   ]
  },
  {
   "cell_type": "code",
   "execution_count": 53,
   "id": "1ffb7a67",
   "metadata": {},
   "outputs": [],
   "source": [
    "def detectar_patrones(state: OverallState) -> OverallState:\n",
    "    \"\"\"Detecta patrones específicos comunes en textos generados por IA.\"\"\"\n",
    "    \n",
    "    class Patrones(BaseModel):\n",
    "        patrones: List[str] = Field(..., description=\"Lista de patrones detectados\")\n",
    "    \n",
    "    llm = ChatOpenAI(\n",
    "        temperature=0, \n",
    "        model=\"gpt-4o-mini\"\n",
    "    )\n",
    "    \n",
    "    llm = llm.bind_tools(tools=[Patrones], tool_choice=\"Patrones\")\n",
    "    parser = JsonOutputKeyToolsParser(key_name=\"Patrones\", first_tool_only=True)\n",
    "    \n",
    "    prompt_template = \"\"\"\n",
    "    Analiza el siguiente texto e identifica la presencia de patrones típicos de texto generado por IA.\n",
    "    \n",
    "    TEXTO A ANALIZAR: \n",
    "    \"{texto}\"\n",
    "    \n",
    "    Busca específicamente:\n",
    "    1. Frases introductorias genéricas (\"Es importante señalar que\", \"Cabe destacar que\")\n",
    "    2. Estructuras enumerativas excesivas o listas\n",
    "    3. Neutralidad excesiva o falta de posicionamiento\n",
    "    4. Uso de frases de transición predecibles\n",
    "    5. Redundancias o repetición de ideas\n",
    "    6. Exceso de calificativos o adverbios\n",
    "    7. Conclusiones genéricas o vacías\n",
    "    8. Explicaciones demasiado didácticas\n",
    "    \n",
    "    Devuelve SOLO una lista de los patrones detectados (sin explicaciones adicionales).\n",
    "    \"\"\"\n",
    "    \n",
    "    prompt = PromptTemplate.from_template(\n",
    "        template=prompt_template,\n",
    "        partial_variables={\"texto\": state['texto']}\n",
    "    )\n",
    "    \n",
    "    chain = prompt | llm | parser\n",
    "    \n",
    "    response = chain.invoke({})[\"patrones\"]\n",
    "    \n",
    "    return {\"patrones_detectados\": response}"
   ]
  },
  {
   "cell_type": "code",
   "execution_count": 57,
   "id": "9018a90e",
   "metadata": {},
   "outputs": [],
   "source": [
    "def tomar_decision(state: OverallState) -> OverallState:\n",
    "    \"\"\"Integra todos los análisis y asigna un score de 0-100 (0=humano, 100=IA).\"\"\"\n",
    "    \n",
    "    class Score(BaseModel):\n",
    "        score: int = Field(..., description=\"Score de 0 a 100 para determinar la probabilidad de IA (0=humano, 100=IA)\")\n",
    "        conclusion: str = Field(..., description=\"Conclusión detallada sobre el análisis\")\n",
    "    \n",
    "    llm = ChatOpenAI(\n",
    "        temperature=0, \n",
    "        model=\"gpt-4o-mini\"\n",
    "    )\n",
    "    \n",
    "    llm = llm.bind_tools(tools=[Score], tool_choice=\"Score\")\n",
    "    parser = JsonOutputKeyToolsParser(key_name=\"Score\", first_tool_only=True)\n",
    "    \n",
    "    # Preparar el resumen de las características\n",
    "    caracteristicas = state[\"caracteristicas\"]\n",
    "    patrones = \"\\n\".join([f\"- {p}\" for p in state[\"patrones_detectados\"]])\n",
    "    \n",
    "    system_prompt = \"\"\"\\\n",
    "    Eres un experto en análisis de textos. Tu tarea es evaluar la probabilidad de que un texto haya sido generado por IA.\n",
    "    Utiliza la información proporcionada para llegar a una conclusión fundamentada, toma el tiempo necesario para analizar\\\n",
    "    los resultados obtenidos previamente y llegar a una conclusion.\n",
    "    \n",
    "    Previamente has realizado un análisis preliminar del texto, has extraído características lingüísticas cuantificables\\\n",
    "    y has detectado patrones que son típicos de textos generados por IA.\n",
    "    \n",
    "    Tendras en cuenta los datos anteriores para llegar a:\n",
    "    - Conclusiones y puntuación final\n",
    "    \n",
    "    ## Proporciona un score de 0 a 100, donde:\n",
    "    - 0-20: Casi con certeza escrito por humano\n",
    "    - 21-40: Probablemente escrito por humano\n",
    "    - 41-60: Indeterminado\n",
    "    - 61-80: Probablemente generado por IA\n",
    "    - 81-100: Casi con certeza generado por IA\n",
    "    \n",
    "    El score debe ser un número entero exacto entre 0 y 100.\n",
    "    \n",
    "    ## Estructura tu respuesta claramente con estas dos secciones:\n",
    "    No incluyas ninguna otra información o comentario adicional.\n",
    "    - Conclusión: Explicación detallada de tu razonamiento\n",
    "    - Score: Un número entero entre 0 y 100 que representa la probabilidad de que el texto haya sido generado por IA.\n",
    "    \"\"\"\n",
    "    \n",
    "    human_instructions = f\"\"\"\\\n",
    "    Según el análisis previo realizado a un texto, evalúa la probabilidad de que el texto haya sido generado por IA.\n",
    "    \n",
    "    Estas son las características del texto:\n",
    "    \n",
    "    ANÁLISIS PRELIMINAR:\n",
    "    {state[\"analisis_preliminar\"]}\n",
    "    \n",
    "    CARACTERÍSTICAS LINGÜÍSTICAS:\n",
    "    - Repeticiones: {caracteristicas[\"repeticiones\"]}\n",
    "    - Coherencia: {caracteristicas[\"coherencia\"]}\n",
    "    - Complejidad sintáctica: {caracteristicas[\"complejidad_sintactica\"]}\n",
    "    - Diversidad léxica: {caracteristicas[\"diversidad_lexica\"]}\n",
    "    \n",
    "    PATRONES DETECTADOS:\n",
    "    {patrones}\n",
    "    \"\"\"\n",
    "    \n",
    "    texto = state[\"texto\"]\n",
    "    \n",
    "    human_prompt = f\"\"\"\\\n",
    "    Este es el texto que se analizo y se obtuvieron las características anteriores:\n",
    "    \n",
    "    <texto>\n",
    "    \"{texto}\"\n",
    "    </texto>\n",
    "    \"\"\"\n",
    "    \n",
    "    messages = [\n",
    "        SystemMessagePromptTemplate.from_template(system_prompt),\n",
    "        HumanMessagePromptTemplate.from_template(human_instructions),\n",
    "        HumanMessagePromptTemplate.from_template(human_prompt)\n",
    "    ]\n",
    "    \n",
    "    prompt = ChatPromptTemplate.from_messages(messages=messages)\n",
    "    \n",
    "    chain = prompt | llm | parser\n",
    "    \n",
    "    response = chain.invoke({})\n",
    "    \n",
    "    state[\"conclusion\"] = response[\"conclusion\"]\n",
    "    state[\"score_ia\"] = response[\"score\"]\n",
    "    \n",
    "    return state"
   ]
  },
  {
   "cell_type": "markdown",
   "id": "593d1f15",
   "metadata": {},
   "source": [
    "#### Agente"
   ]
  },
  {
   "cell_type": "code",
   "execution_count": 58,
   "id": "39db76d4",
   "metadata": {},
   "outputs": [],
   "source": [
    "graph = StateGraph(OverallState)\n",
    "\n",
    "# Añadir nodos\n",
    "graph.add_node(\"analisis_preliminar_texto\", analisis_preliminar_texto)\n",
    "graph.add_node(\"extraer_caracteristicas\", extraer_caracteristicas)\n",
    "graph.add_node(\"detectar_patrones\", detectar_patrones)\n",
    "graph.add_node(\"tomar_decision\", tomar_decision)\n",
    "\n",
    "\n",
    "graph.add_edge(START, \"analisis_preliminar_texto\")\n",
    "graph.add_edge(START, \"extraer_caracteristicas\")\n",
    "graph.add_edge(START, \"detectar_patrones\")\n",
    "\n",
    "graph.add_edge(\"analisis_preliminar_texto\", \"tomar_decision\")\n",
    "graph.add_edge(\"extraer_caracteristicas\", \"tomar_decision\") \n",
    "graph.add_edge(\"detectar_patrones\", \"tomar_decision\")\n",
    "\n",
    "graph.add_edge(\"tomar_decision\", END)\n",
    "\n",
    "app = graph.compile()"
   ]
  },
  {
   "cell_type": "code",
   "execution_count": 34,
   "id": "ff7f4603",
   "metadata": {},
   "outputs": [
    {
     "data": {
      "image/png": "[encoded data removed]",
      "text/plain": [
       "<IPython.core.display.Image object>"
      ]
     },
     "metadata": {},
     "output_type": "display_data"
    }
   ],
   "source": [
    "from IPython.display import Image, display\n",
    "display(Image(app.get_graph().draw_mermaid_png()))"
   ]
  },
  {
   "cell_type": "markdown",
   "id": "ae6d70fe",
   "metadata": {},
   "source": [
    "#### Pruebas:"
   ]
  },
  {
   "cell_type": "code",
   "execution_count": 59,
   "id": "de9ced30",
   "metadata": {},
   "outputs": [],
   "source": [
    "solution = app.invoke({\n",
    "    \"texto\": \"El clima es un factor importante en la agricultura. Es esencial monitorear las condiciones climáticas para garantizar una cosecha exitosa. Las lluvias, la temperatura y la humedad son factores clave que afectan el crecimiento de los cultivos. Por lo tanto, es crucial prestar atención a estos aspectos para maximizar la producción agrícola.\"\n",
    "})"
   ]
  },
  {
   "cell_type": "code",
   "execution_count": 60,
   "id": "9b7e4deb",
   "metadata": {},
   "outputs": [
    {
     "name": "stdout",
     "output_type": "stream",
     "text": [
      "SCORE IA: 75\n",
      "--------------------------------------------------\n",
      "conclusion: El análisis del texto revela características que son típicas de la escritura generada por IA. Aunque el lenguaje es claro y directo, lo que podría ser un indicativo de un autor humano, la falta de matices emocionales y la estructura lógica y uniforme sugieren un estilo más automatizado. Además, el uso de frases genéricas y la ausencia de profundidad en el contenido refuerzan la idea de que el texto podría haber sido generado por IA. Por lo tanto, se concluye que hay una alta probabilidad de que este texto haya sido creado por un sistema de inteligencia artificial.\n"
     ]
    }
   ],
   "source": [
    "print(\"SCORE IA:\", solution[\"score_ia\"])\n",
    "print(\"-\"*50)\n",
    "print(\"conclusion:\", solution[\"conclusion\"])"
   ]
  }
 ],
 "metadata": {
  "kernelspec": {
   "display_name": "venv",
   "language": "python",
   "name": "python3"
  },
  "language_info": {
   "codemirror_mode": {
    "name": "ipython",
    "version": 3
   },
   "file_extension": ".py",
   "mimetype": "text/x-python",
   "name": "python",
   "nbconvert_exporter": "python",
   "pygments_lexer": "ipython3",
   "version": "3.12.0"
  }
 },
 "nbformat": 4,
 "nbformat_minor": 5
}
